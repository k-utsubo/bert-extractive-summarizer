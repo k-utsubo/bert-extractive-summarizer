{
 "metadata": {
  "language_info": {
   "codemirror_mode": {
    "name": "ipython",
    "version": 3
   },
   "file_extension": ".py",
   "mimetype": "text/x-python",
   "name": "python",
   "nbconvert_exporter": "python",
   "pygments_lexer": "ipython3",
   "version": "3.7.9-final"
  },
  "orig_nbformat": 2,
  "kernelspec": {
   "name": "python3",
   "display_name": "Python 3.7.9 64-bit ('venv')",
   "metadata": {
    "interpreter": {
     "hash": "882f1bb97cc8829c7fc471b4bde6c3fddc6e51ed01b62b76c6827fb685e8841c"
    }
   }
  }
 },
 "nbformat": 4,
 "nbformat_minor": 2,
 "cells": [
  {
   "cell_type": "code",
   "execution_count": 1,
   "metadata": {},
   "outputs": [
    {
     "output_type": "stream",
     "name": "stdout",
     "text": [
      "アップルがイギリスの新興企業を１０億ドルで購入を検討\nアップル NOUN nsubj\nが ADP case\nイギリス PROPN nmod\nの ADP case\n新興 NOUN compound\n企業 NOUN obj\nを ADP case\n１０億 NUM compound\nドル NOUN obl\nで ADP case\n購入 NOUN obj\nを ADP case\n検討 NOUN ROOT\n"
     ]
    }
   ],
   "source": [
    "import spacy\n",
    "from spacy.lang.ja.examples import sentences \n",
    "\n",
    "nlp = spacy.load(\"ja_core_news_sm\")\n",
    "doc = nlp(sentences[0])\n",
    "print(doc.text)\n",
    "for token in doc:\n",
    "    print(token.text, token.pos_, token.dep_)"
   ]
  },
  {
   "cell_type": "code",
   "execution_count": 2,
   "metadata": {},
   "outputs": [
    {
     "output_type": "stream",
     "name": "stdout",
     "text": [
      "The Chrysler Building, the famous art deco New York skyscraper, will be sold for a small fraction of its previous sales price. The building sold fairly quickly after being publicly placed on the market only two months ago. The incentive to sell the building at such a huge loss was due to the soaring rent the owners pay to Cooper Union, a New York college, for the land under the building. Still the building is among the best known in the city, even to people who have never been to New York.\n"
     ]
    }
   ],
   "source": [
    "from summarizer import Summarizer\n",
    "\n",
    "body = \"\"\"\n",
    "The Chrysler Building, the famous art deco New York skyscraper, will be sold for a small fraction of its previous sales price.\n",
    "The deal, first reported by The Real Deal, was for $150 million, according to a source familiar with the deal.\n",
    "Mubadala, an Abu Dhabi investment fund, purchased 90% of the building for $800 million in 2008.\n",
    "Real estate firm Tishman Speyer had owned the other 10%.\n",
    "The buyer is RFR Holding, a New York real estate company.\n",
    "Officials with Tishman and RFR did not immediately respond to a request for comments.\n",
    "It's unclear when the deal will close.\n",
    "The building sold fairly quickly after being publicly placed on the market only two months ago.\n",
    "The sale was handled by CBRE Group.\n",
    "The incentive to sell the building at such a huge loss was due to the soaring rent the owners pay to Cooper Union, a New York college, for the land under the building.\n",
    "The rent is rising from $7.75 million last year to $32.5 million this year to $41 million in 2028.\n",
    "Meantime, rents in the building itself are not rising nearly that fast.\n",
    "While the building is an iconic landmark in the New York skyline, it is competing against newer office towers with large floor-to-ceiling windows and all the modern amenities.\n",
    "Still the building is among the best known in the city, even to people who have never been to New York.\n",
    "It is famous for its triangle-shaped, vaulted windows worked into the stylized crown, along with its distinctive eagle gargoyles near the top.\n",
    "It has been featured prominently in many films, including Men in Black 3, Spider-Man, Armageddon, Two Weeks Notice and Independence Day.\n",
    "The previous sale took place just before the 2008 financial meltdown led to a plunge in real estate prices.\n",
    "Still there have been a number of high profile skyscrapers purchased for top dollar in recent years, including the Waldorf Astoria hotel, which Chinese firm Anbang Insurance purchased in 2016 for nearly $2 billion, and the Willis Tower in Chicago, which was formerly known as Sears Tower, once the world's tallest.\n",
    "Blackstone Group (BX) bought it for $1.3 billion 2015.\n",
    "The Chrysler Building was the headquarters of the American automaker until 1953, but it was named for and owned by Chrysler chief Walter Chrysler, not the company itself.\n",
    "Walter Chrysler had set out to build the tallest building in the world, a competition at that time with another Manhattan skyscraper under construction at 40 Wall Street at the south end of Manhattan. He kept secret the plans for the spire that would grace the top of the building, building it inside the structure and out of view of the public until 40 Wall Street was complete.\n",
    "Once the competitor could rise no higher, the spire of the Chrysler building was raised into view, giving it the title.\n",
    "\"\"\"\n",
    "\n",
    "model = Summarizer()\n",
    "result = model(body, min_length=60)\n",
    "full = ''.join(result)\n",
    "print(full)"
   ]
  },
  {
   "cell_type": "code",
   "execution_count": null,
   "metadata": {},
   "outputs": [],
   "source": []
  },
  {
   "cell_type": "code",
   "execution_count": 7,
   "metadata": {},
   "outputs": [],
   "source": [
    "from summarizer import Summarizer\n",
    "body=\"\"\"\n",
    "テレビやTwitterと連携できるパソコンや、プロセッサや切り替わるパソコンなど、面白>いパソコンが次から次へと登場した。旧式Macの禁断ともいえるパワーアップ方法から、NECの最新PC、話題のThinkPad X1 Hybrid、新セキュリティソフトまで一挙に紹介しよう。\n",
    "\n",
    "■インテル SSD 520をMacに装着！旧式Macはどれほど高速化するのか (上)\n",
    "インテルが最新SSD「520シリーズ」を発売した。現行SSDの中でもトップクラスの性能を>誇る同製品を、旧型Macの高速化を図るというポイントでレビューしてみた。少し風変わ>りなレビューとなるが、どの程度の効果があるか、期待大である。\n",
    "\n",
    "\n",
    "■http://itlifehack.jp/archives/6716997.html\n",
    "ThinkPad X1 Hybridは使用するCPUがx86(インテルCore iなど)からARMに切り替わるハイ>ブリッドなPCだが、これと同時にOSも切り替わる。\n",
    "\n",
    "\n",
    "■初期費用、更新費用ともに無料！ジャストシステム、ヤモリが目印のセキュリティソフ>ト\n",
    "現在では、多くのユーザーがパソコンにセキュリティソフトを導入しているが、その過半数は毎年5,000円程度かかる更新費用やその手続きについて不満を持っている。有料ソフ>トを利用するユーザの約8割は無料のセキュリティソフトを知っているにもかかわらず>、性能面で劣るのではという不安から導入を控えているという状況にある。\n",
    "\n",
    "\n",
    "■テレビの新しい楽しみ方を提案！NECの春PCはTVとTwitterの連携\n",
    "NECは2012年2月14日、個人向けデスクトップパソコン「VALUESTAR」シリーズ3タイプ16モ\n",
    "デルを2月16日より販売すると発表した。新商品では、よりパワフルになった録画機能に>加え、TV視聴・録画機能に業界で初めて人気のTwitterを連携させた「SmartVisionつぶやきプラス」を追加するなど、TVパソコンならではの機能を搭載。スマートフォン、ホームネットワーク対応も強化し、「安心・簡単・快適」なデジタルエンターテイメントの提案として、主要モデルに対し以下の強化を行った。\n",
    "\n",
    "\n",
    "■まるでお祭りの出荷式！レッツノートSX1の出荷が始まる\n",
    "2月24日に発売されるLet’snote SX1/NX1の出荷式が2月8日に国内製造拠点の神戸工場で行われた。同社のパソコンとして初めてとなる出荷式で、この製品への力の入れようがわかる。\n",
    "\"\"\"\n",
    "\n",
    "\n",
    "\n",
    "\n",
    "\n",
    "\n"
   ]
  },
  {
   "cell_type": "code",
   "execution_count": 9,
   "metadata": {},
   "outputs": [
    {
     "output_type": "stream",
     "name": "stdout",
     "text": [
      "61 テレビやTwitterと連携できるパソコンや、プロセッサや切り替わるパソコンなど、面白>いパソコンが次から次へと登場した。\n76 旧式Macの禁断ともいえるパワーアップ方法から、NECの最新PC、話題のThinkPad X1 Hybrid、新セキュリティソフトまで一挙に紹介しよう。\n68 ■インテル SSD 520をMacに装着！旧式Macはどれほど高速化するのか (上)\nインテルが最新SSD「520シリーズ」を発売した。\n56 現行SSDの中でもトップクラスの性能を>誇る同製品を、旧型Macの高速化を図るというポイントでレビューしてみた。\n36 少し風変わ>りなレビューとなるが、どの程度の効果があるか、期待大である。\n127 ■http://itlifehack.jp/archives/6716997.html\nThinkPad X1 Hybridは使用するCPUがx86(インテルCore iなど)からARMに切り替わるハイ>ブリッドなPCだが、これと同時にOSも切り替わる。\n121 ■初期費用、更新費用ともに無料！ジャストシステム、ヤモリが目印のセキュリティソフ>ト\n現在では、多くのユーザーがパソコンにセキュリティソフトを導入しているが、その過半数は毎年5,000円程度かかる更新費用やその手続きについて不満を持っている。\n79 有料ソフ>トを利用するユーザの約8割は無料のセキュリティソフトを知っているにもかかわらず>、性能面で劣るのではという不安から導入を控えているという状況にある。\n110 ■テレビの新しい楽しみ方を提案！NECの春PCはTVとTwitterの連携\nNECは2012年2月14日、個人向けデスクトップパソコン「VALUESTAR」シリーズ3タイプ16モ\nデルを2月16日より販売すると発表した。\n102 新商品では、よりパワフルになった録画機能に>加え、TV視聴・録画機能に業界で初めて人気のTwitterを連携させた「SmartVisionつぶやきプラス」を追加するなど、TVパソコンならではの機能を搭載。\n73 スマートフォン、ホームネットワーク対応も強化し、「安心・簡単・快適」なデジタルエンターテイメントの提案として、主要モデルに対し以下の強化を行った。\n84 ■まるでお祭りの出荷式！レッツノートSX1の出荷が始まる\n2月24日に発売されるLet’snote SX1/NX1の出荷式が2月8日に国内製造拠点の神戸工場で行われた。\n38 同社のパソコンとして初めてとなる出荷式で、この製品への力の入れようがわかる。\n0 \n"
     ]
    }
   ],
   "source": [
    "import spacy\n",
    "from spacy.lang.ja.examples import sentences \n",
    "\n",
    "nlp = spacy.load(\"ja_core_news_sm\")\n",
    "doc = nlp(body)\n",
    "for token in doc.sents:\n",
    "    print(len(token.text.strip()),token.text.strip())"
   ]
  },
  {
   "cell_type": "code",
   "execution_count": 11,
   "metadata": {},
   "outputs": [
    {
     "output_type": "execute_result",
     "data": {
      "text/plain": [
       "['テレビやTwitterと連携できるパソコンや、プロセッサや切り替わるパソコンなど、面白>いパソコンが次から次へと登場した。',\n",
       " '旧式Macの禁断ともいえるパワーアップ方法から、NECの最新PC、話題のThinkPad X1 Hybrid、新セキュリティソフトまで一挙に紹介しよう。',\n",
       " '■インテル SSD 520をMacに装着！旧式Macはどれほど高速化するのか (上)\\nインテルが最新SSD「520シリーズ」を発売した。',\n",
       " '■http://itlifehack.jp/archives/6716997.html\\nThinkPad X1 Hybridは使用するCPUがx86(インテルCore iなど)からARMに切り替わるハイ>ブリッドなPCだが、これと同時にOSも切り替わる。',\n",
       " '■初期費用、更新費用ともに無料！ジャストシステム、ヤモリが目印のセキュリティソフ>ト\\n現在では、多くのユーザーがパソコンにセキュリティソフトを導入しているが、その過半数は毎年5,000円程度かかる更新費用やその手続きについて不満を持っている。',\n",
       " '有料ソフ>トを利用するユーザの約8割は無料のセキュリティソフトを知っているにもかかわらず>、性能面で劣るのではという不安から導入を控えているという状況にある。',\n",
       " '■テレビの新しい楽しみ方を提案！NECの春PCはTVとTwitterの連携\\nNECは2012年2月14日、個人向けデスクトップパソコン「VALUESTAR」シリーズ3タイプ16モ\\nデルを2月16日より販売すると発表した。',\n",
       " '新商品では、よりパワフルになった録画機能に>加え、TV視聴・録画機能に業界で初めて人気のTwitterを連携させた「SmartVisionつぶやきプラス」を追加するなど、TVパソコンならではの機能を搭載。',\n",
       " 'スマートフォン、ホームネットワーク対応も強化し、「安心・簡単・快適」なデジタルエンターテイメントの提案として、主要モデルに対し以下の強化を行った。',\n",
       " '■まるでお祭りの出荷式！レッツノートSX1の出荷が始まる\\n2月24日に発売されるLet’snote SX1/NX1の出荷式が2月8日に国内製造拠点の神戸工場で行われた。']"
      ]
     },
     "metadata": {},
     "execution_count": 11
    }
   ],
   "source": [
    " min_length=60\n",
    " max_length=600\n",
    " \n",
    " [c.text.strip() for c in doc.sents if max_length > len(c.text.strip()) > min_length]"
   ]
  },
  {
   "cell_type": "code",
   "execution_count": null,
   "metadata": {},
   "outputs": [],
   "source": [
    "model = Summarizer(\n",
    "    model=\"cl-tohoku/bert-base-japanese-whole-word-masking\",\n",
    "\n",
    ")\n",
    "result = model(body, min_length=60)\n",
    "full = ''.join(result)\n",
    "print(full)"
   ]
  },
  {
   "cell_type": "code",
   "execution_count": null,
   "metadata": {},
   "outputs": [],
   "source": [
    "\"\"\"\n",
    "sentence単位で抜き出す。MinMax考慮\n",
    "文をBertでベクトル化，これを入力として，KMeansでクラスタリング\n",
    "クラスタ中心に近いセンテンスを抜き出す\n",
    "\"\"\""
   ]
  }
 ]
}